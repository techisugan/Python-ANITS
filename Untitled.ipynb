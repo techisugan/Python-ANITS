{
 "cells": [
  {
   "cell_type": "code",
   "execution_count": null,
   "metadata": {},
   "outputs": [],
   "source": [
    "Control Statement:\n",
    "List\n",
    "Tuple"
   ]
  },
  {
   "cell_type": "code",
   "execution_count": null,
   "metadata": {},
   "outputs": [],
   "source": [
    "Control Statement:\n",
    "    1.Conditional \n",
    "        -if\n",
    "          -simple if\n",
    "          -if else\n",
    "          -elif ladder\n",
    "          -Nested if else\n",
    "        -no switch------->form dictionary ,function,class\n",
    "            -match-3.10\n",
    "    2.Looping\n",
    "        -for\n",
    "        -while"
   ]
  },
  {
   "cell_type": "code",
   "execution_count": null,
   "metadata": {},
   "outputs": [],
   "source": [
    "#syntax:simple -if\n",
    "if condition:\n",
    "    True-stat\n",
    "    \n",
    "#syntax:if -else\n",
    "if condition:\n",
    "    True-stat  \n",
    "else:\n",
    "    False-stat\n",
    "\n",
    "#syntax:elif ladder\n",
    "if condition:\n",
    "    True-stat \n",
    "elif condition:\n",
    "    True-stat\n",
    "else:#optional\n",
    "    False-stat\n",
    "\n",
    "\n",
    "#syntax:Nested if-else:\n",
    "if condition:\n",
    "    True-stat\n",
    "    if condition:\n",
    "        True-stat  \n",
    "    else:\n",
    "        False-stat\n",
    "else:\n",
    "    False-stat"
   ]
  },
  {
   "cell_type": "markdown",
   "metadata": {},
   "source": [
    "### Sum in Range"
   ]
  },
  {
   "cell_type": "code",
   "execution_count": 2,
   "metadata": {},
   "outputs": [
    {
     "name": "stdout",
     "output_type": "stream",
     "text": [
      "8\n",
      "6\n",
      "14\n"
     ]
    }
   ],
   "source": [
    "no1=int(input())\n",
    "no2=int(input())\n",
    "sum=no1+no2\n",
    "#15-20\n",
    "if sum in range(15,21):\n",
    "    print('20')\n",
    "else:\n",
    "    print(sum)"
   ]
  },
  {
   "cell_type": "code",
   "execution_count": null,
   "metadata": {},
   "outputs": [],
   "source": [
    "#map(function,seq)  seq-list,tuple,range...."
   ]
  },
  {
   "cell_type": "code",
   "execution_count": 3,
   "metadata": {},
   "outputs": [
    {
     "name": "stdout",
     "output_type": "stream",
     "text": [
      "10 20\n",
      "10 20\n"
     ]
    }
   ],
   "source": [
    "no1,no2=map(int,input().split(' '))\n",
    "print(no1,no2)"
   ]
  },
  {
   "cell_type": "markdown",
   "metadata": {},
   "source": [
    "## vowel or not"
   ]
  },
  {
   "cell_type": "code",
   "execution_count": 5,
   "metadata": {},
   "outputs": [
    {
     "name": "stdout",
     "output_type": "stream",
     "text": [
      "Input an alphabet:q\n",
      "q is not an alphabet\n"
     ]
    }
   ],
   "source": [
    "ch=input(\"Input an alphabet:\")\n",
    "if ch in \"aeiou\":\n",
    "    print(ch,\"is an alphabet\")\n",
    "else:\n",
    "    print(ch,\"is not an alphabet\")"
   ]
  },
  {
   "cell_type": "code",
   "execution_count": null,
   "metadata": {},
   "outputs": [],
   "source": [
    "#.format-python 2\n",
    "#f-string-python 3"
   ]
  },
  {
   "cell_type": "code",
   "execution_count": 10,
   "metadata": {},
   "outputs": [
    {
     "name": "stdout",
     "output_type": "stream",
     "text": [
      "Bharathi and Durga are best friends.\n",
      "Durga and Bharathi are best friends.\n",
      "Bharathi and Durga are best friends.\n"
     ]
    }
   ],
   "source": [
    "name1,name2=\"Bharathi\",\"Durga\"\n",
    "print(name1,\"and\",name2,\"are best friends.\")\n",
    "print(\"{1} and {0} are best friends.\".format(name1,name2))\n",
    "print(f\"{name1} and {name2} are best friends.\")"
   ]
  },
  {
   "cell_type": "code",
   "execution_count": 11,
   "metadata": {},
   "outputs": [
    {
     "name": "stdout",
     "output_type": "stream",
     "text": [
      "Bharathi and Durga are best friends.\n"
     ]
    }
   ],
   "source": [
    "print(\"{1} and {0} are best friends.\".format(name2,name1))"
   ]
  },
  {
   "cell_type": "markdown",
   "metadata": {},
   "source": [
    "### Divisibility Rule"
   ]
  },
  {
   "cell_type": "code",
   "execution_count": null,
   "metadata": {},
   "outputs": [],
   "source": [
    "no/3 =FUN\n",
    "no/5 =GUN\n",
    "no /3 and no/5=FUNGUN\n",
    "not 3 and 5=>invalid\n",
    "\n",
    "Testcase1:\n",
    "    no=6   output:FUN\n",
    "Testcase2:\n",
    "    no=10   output:GUN\n",
    "Testcase3:\n",
    "    no=15   output:FUNGUN\n",
    "Testcase4:\n",
    "    no=11  output:Invalid\n",
    "        \n",
    "Nested if -else"
   ]
  },
  {
   "cell_type": "code",
   "execution_count": 12,
   "metadata": {},
   "outputs": [
    {
     "name": "stdout",
     "output_type": "stream",
     "text": [
      "15\n",
      "FUNGUN\n"
     ]
    }
   ],
   "source": [
    "no=int(input())\n",
    "if no%3==0 or no%5==0:\n",
    "    if no%3==0 and no%5==0:\n",
    "        print(\"FUNGUN\")\n",
    "    elif no%3==0:\n",
    "        print(\"FUN\")\n",
    "    else:\n",
    "        print(\"GUN\")\n",
    "else:\n",
    "    print(\"Invalid\")\n",
    "    "
   ]
  },
  {
   "cell_type": "code",
   "execution_count": null,
   "metadata": {},
   "outputs": [],
   "source": [
    "Looping:\n",
    "    for \n",
    "    while\n",
    "    \n",
    "for iterator_variable in sequence:#sequence-tuple,list,range.....\n",
    "    stat\n",
    "else:\n",
    "    other-stat\n",
    "    \n",
    "while condition:\n",
    "    statements\n",
    "else:\n",
    "    other-stat"
   ]
  },
  {
   "cell_type": "code",
   "execution_count": null,
   "metadata": {},
   "outputs": [],
   "source": [
    "no=>\n",
    "6---->1 2 3 6------->n time\n",
    "10--->1 2 5 10\n",
    "100-->1 2 4 5 10 20 25 50 100 ---->n//2\n",
    "sqrt(no)--->10\n",
    "1    100/1=100    100/100=1\n",
    "2    100/2=50     100/50=2\n",
    "4    100/4=25\n",
    "5    100/5=20\n",
    "10   100/10=10"
   ]
  },
  {
   "cell_type": "code",
   "execution_count": 20,
   "metadata": {},
   "outputs": [
    {
     "name": "stdout",
     "output_type": "stream",
     "text": [
      "200\n",
      "1 200 2 100 4 50 5 40 8 25 10 20 "
     ]
    }
   ],
   "source": [
    "## factors  of given number\n",
    "import math\n",
    "no=int(input())\n",
    "for i in range(1,int(math.sqrt(no))+1):\n",
    "    if no%i==0:\n",
    "        print(i,end=\" \")\n",
    "        if i!=no//i:\n",
    "            print(no//i,end=\" \")\n",
    "\n"
   ]
  },
  {
   "cell_type": "code",
   "execution_count": null,
   "metadata": {},
   "outputs": [],
   "source": [
    "sum of natural no:\n",
    "    \n",
    "    no=5\n",
    "    output=>1+2+3+4+5=15---->n*(n+1)/2"
   ]
  },
  {
   "cell_type": "code",
   "execution_count": null,
   "metadata": {},
   "outputs": [],
   "source": [
    "n=int(input())\n",
    "for i in range(1,n+1):\n",
    "    if i!=n:\n",
    "        print(i,end=\"+\")\n",
    "    else:\n",
    "        print(i,end=\"=\")\n",
    "        print(n*(n+1)/2)"
   ]
  },
  {
   "cell_type": "code",
   "execution_count": 21,
   "metadata": {},
   "outputs": [
    {
     "name": "stdout",
     "output_type": "stream",
     "text": [
      "5\n",
      "1+2+3+4+5 = 15\n"
     ]
    }
   ],
   "source": [
    "n=int(input())\n",
    "for i in range(1,n):\n",
    "    print(i,end=\"+\")\n",
    "    \n",
    "print(n,\"=\",(n*(n+1)//2))"
   ]
  },
  {
   "cell_type": "code",
   "execution_count": null,
   "metadata": {},
   "outputs": [],
   "source": []
  }
 ],
 "metadata": {
  "kernelspec": {
   "display_name": "Python 3",
   "language": "python",
   "name": "python3"
  },
  "language_info": {
   "codemirror_mode": {
    "name": "ipython",
    "version": 3
   },
   "file_extension": ".py",
   "mimetype": "text/x-python",
   "name": "python",
   "nbconvert_exporter": "python",
   "pygments_lexer": "ipython3",
   "version": "3.7.3"
  }
 },
 "nbformat": 4,
 "nbformat_minor": 2
}
